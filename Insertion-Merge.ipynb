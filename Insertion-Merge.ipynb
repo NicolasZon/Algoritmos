{
 "cells": [
  {
   "cell_type": "markdown",
   "metadata": {},
   "source": [
    "# Práctica Ipython\n",
    "## Punto 2: insertion sort y merge sort\n",
    "\n",
    "La implementación del merge sort fue tomada de la página web: http://interactivepython.org/runestone/static/pythonds/SortSearch/TheMergeSort.html"
   ]
  },
  {
   "cell_type": "code",
   "execution_count": 1,
   "metadata": {
    "collapsed": true
   },
   "outputs": [],
   "source": [
    "def mergeSort(alist):\n",
    "    if len(alist)>1:\n",
    "        mid = len(alist)//2\n",
    "        lefthalf = alist[:mid]\n",
    "        righthalf = alist[mid:]\n",
    "\n",
    "        mergeSort(lefthalf)\n",
    "        mergeSort(righthalf)\n",
    "\n",
    "        i=0\n",
    "        j=0\n",
    "        k=0\n",
    "        while i < len(lefthalf) and j < len(righthalf):\n",
    "            if lefthalf[i] < righthalf[j]:\n",
    "                alist[k]=lefthalf[i]\n",
    "                i=i+1\n",
    "            else:\n",
    "                alist[k]=righthalf[j]\n",
    "                j=j+1\n",
    "            k=k+1\n",
    "\n",
    "        while i < len(lefthalf):\n",
    "            alist[k]=lefthalf[i]\n",
    "            i=i+1\n",
    "            k=k+1\n",
    "\n",
    "        while j < len(righthalf):\n",
    "            alist[k]=righthalf[j]\n",
    "            j=j+1\n",
    "            k=k+1"
   ]
  },
  {
   "cell_type": "markdown",
   "metadata": {},
   "source": [
    "La función pruebasMerge crea 10 arreglos de tamaño 10, 20, ... , 100 todos desordenados.  Luego aplica el Merge Sort a cada uno de los arreglos y retorna los tiempos."
   ]
  },
  {
   "cell_type": "code",
   "execution_count": 2,
   "metadata": {
    "collapsed": true
   },
   "outputs": [],
   "source": [
    "from random import shuffle\n",
    "import time\n",
    "\n",
    "def pruebasMerge():\n",
    "    listas = []\n",
    "    aux = (range(10))\n",
    "    shuffle(aux)\n",
    "    listas.append(aux)\n",
    "    aux = (range(20))\n",
    "    shuffle(aux)\n",
    "    listas.append(aux)\n",
    "    aux = (range(30))\n",
    "    shuffle(aux)\n",
    "    listas.append(aux)\n",
    "    aux = (range(40))\n",
    "    shuffle(aux)\n",
    "    listas.append(aux)\n",
    "    aux = (range(50))\n",
    "    shuffle(aux)\n",
    "    listas.append(aux)\n",
    "    aux = (range(60))\n",
    "    shuffle(aux)\n",
    "    listas.append(aux)\n",
    "    aux = (range(70))\n",
    "    shuffle(aux)\n",
    "    listas.append(aux)\n",
    "    aux = (range(80))\n",
    "    shuffle(aux)\n",
    "    listas.append(aux)\n",
    "    aux = (range(90))\n",
    "    shuffle(aux)\n",
    "    listas.append(aux)\n",
    "    aux = (range(100))\n",
    "    shuffle(aux)\n",
    "    listas.append(aux)\n",
    "\n",
    "    tiemposMerge = []\n",
    "    for node in range(10):\n",
    "        tiempoInicial=time.clock()\n",
    "        #print(listas[node])\n",
    "        mergeSort(listas[node])\n",
    "        tiempos=time.clock()-tiempoInicial\n",
    "        #print tiempos\n",
    "        tiemposMerge.append(tiempos)\n",
    "    return tiemposMerge"
   ]
  },
  {
   "cell_type": "markdown",
   "metadata": {},
   "source": [
    "Se realizó la prueba 1000 veces para tener un tiempo promedio más preciso."
   ]
  },
  {
   "cell_type": "code",
   "execution_count": 3,
   "metadata": {
    "collapsed": false
   },
   "outputs": [
    {
     "name": "stdout",
     "output_type": "stream",
     "text": [
      "[0.023570908959538752, 0.05349638981166429, 0.08729315517487868, 0.12175087155217573, 0.16215961022774486, 0.19679056966587946, 0.23585934305574036, 0.2745943567099246, 0.3168890636828352, 0.35940915084626424]\n"
     ]
    }
   ],
   "source": [
    "tiemposMerge = []\n",
    "for i in range(10):\n",
    "    tiemposMerge.append(0)\n",
    "\n",
    "for i in range(1000):\n",
    "    aux = pruebasMerge()\n",
    "    for n in range(10):\n",
    "        tiemposMerge[n] += aux[n]\n",
    "\n",
    "print tiemposMerge"
   ]
  },
  {
   "cell_type": "markdown",
   "metadata": {},
   "source": [
    "Se graficó el resultado obtenido. Se puede observa que tiene un crecimiento lineal."
   ]
  },
  {
   "cell_type": "code",
   "execution_count": 4,
   "metadata": {
    "collapsed": false
   },
   "outputs": [
    {
     "data": {
      "text/plain": [
       "<matplotlib.legend.Legend at 0x76fbc18>"
      ]
     },
     "execution_count": 4,
     "metadata": {},
     "output_type": "execute_result"
    },
    {
     "data": {
      "image/png": "[encoded data removed]",
      "text/plain": [
       "<matplotlib.figure.Figure at 0x76fbbe0>"
      ]
     },
     "metadata": {},
     "output_type": "display_data"
    }
   ],
   "source": [
    "import matplotlib.pyplot as plt\n",
    "import numpy as np\n",
    "from scipy.interpolate import interp1d\n",
    "import math\n",
    "%matplotlib inline\n",
    "\n",
    "\n",
    "x = np.linspace(0,100,10,endpoint=True)\n",
    "f1 = interp1d(x,tiemposMerge)\n",
    "plt.plot(x,f1(x))\n",
    "plt.legend(['Merge'],loc='best')"
   ]
  },
  {
   "cell_type": "markdown",
   "metadata": {},
   "source": [
    "Para el analisis de insertion sort, se siguió los mismos pasos que con el algoritmo anterior. La implementación fue tomada del Cormen."
   ]
  },
  {
   "cell_type": "code",
   "execution_count": 5,
   "metadata": {
    "collapsed": true
   },
   "outputs": [],
   "source": [
    "def insertionSort(n):\n",
    "    j=1\n",
    "    while j<len(n):\n",
    "        llave=n[j]\n",
    "        i=j-1\n",
    "        while i>=0 and n[i]>llave:\n",
    "            n[i+1]=n[i]\n",
    "            i=i-1\n",
    "        n[i+1]=llave\n",
    "        j=j+1"
   ]
  },
  {
   "cell_type": "code",
   "execution_count": 6,
   "metadata": {
    "collapsed": true
   },
   "outputs": [],
   "source": [
    "from random import shuffle\n",
    "import time\n",
    "\n",
    "def pruebasInsertion():\n",
    "    listas = []\n",
    "    aux = (range(10))\n",
    "    shuffle(aux)\n",
    "    listas.append(aux)\n",
    "    aux = (range(20))\n",
    "    shuffle(aux)\n",
    "    listas.append(aux)\n",
    "    aux = (range(30))\n",
    "    shuffle(aux)\n",
    "    listas.append(aux)\n",
    "    aux = (range(40))\n",
    "    shuffle(aux)\n",
    "    listas.append(aux)\n",
    "    aux = (range(50))\n",
    "    shuffle(aux)\n",
    "    listas.append(aux)\n",
    "    aux = (range(60))\n",
    "    shuffle(aux)\n",
    "    listas.append(aux)\n",
    "    aux = (range(70))\n",
    "    shuffle(aux)\n",
    "    listas.append(aux)\n",
    "    aux = (range(80))\n",
    "    shuffle(aux)\n",
    "    listas.append(aux)\n",
    "    aux = (range(90))\n",
    "    shuffle(aux)\n",
    "    listas.append(aux)\n",
    "    aux = (range(100))\n",
    "    shuffle(aux)\n",
    "    listas.append(aux)\n",
    "\n",
    "    tiemposInsertion = []\n",
    "    for node in range(10):\n",
    "        tiempoInicial=time.clock()\n",
    "        #print(listas[node])\n",
    "        insertionSort(listas[node])\n",
    "        tiempos=time.clock()-tiempoInicial\n",
    "        #print tiempos\n",
    "        tiemposInsertion.append(tiempos)\n",
    "    return tiemposInsertion"
   ]
  },
  {
   "cell_type": "code",
   "execution_count": 7,
   "metadata": {
    "collapsed": false
   },
   "outputs": [
    {
     "name": "stdout",
     "output_type": "stream",
     "text": [
      "[0.00877627998707542, 0.026169554872081058, 0.05309653497454114, 0.08997678050351965, 0.13669616451356692, 0.19093437946962943, 0.25355394591860403, 0.32949352268007637, 0.41144077468384666, 0.5058697376393866]\n"
     ]
    }
   ],
   "source": [
    "tiemposInsertion = []\n",
    "for i in range(10):\n",
    "    tiemposInsertion.append(0)\n",
    "\n",
    "for i in range(1000):\n",
    "    aux = pruebasInsertion()\n",
    "    for n in range(10):\n",
    "        tiemposInsertion[n] += aux[n]\n",
    "\n",
    "print tiemposInsertion"
   ]
  },
  {
   "cell_type": "markdown",
   "metadata": {},
   "source": [
    "En la gráfica del Insertion Sort, notamos que su crecimiento es cuadrático."
   ]
  },
  {
   "cell_type": "code",
   "execution_count": 8,
   "metadata": {
    "collapsed": false
   },
   "outputs": [
    {
     "data": {
      "text/plain": [
       "<matplotlib.legend.Legend at 0x4099fd0>"
      ]
     },
     "execution_count": 8,
     "metadata": {},
     "output_type": "execute_result"
    },
    {
     "data": {
      "image/png": "[encoded data removed]",
      "text/plain": [
       "<matplotlib.figure.Figure at 0x4099cc0>"
      ]
     },
     "metadata": {},
     "output_type": "display_data"
    }
   ],
   "source": [
    "import matplotlib.pyplot as plt\n",
    "import numpy as np\n",
    "from scipy.interpolate import interp1d\n",
    "import math\n",
    "%matplotlib inline\n",
    "\n",
    "\n",
    "x = np.linspace(0,100,10,endpoint=True)\n",
    "f2 = interp1d(x,tiemposInsertion)\n",
    "plt.plot(x,f2(x))\n",
    "plt.legend(['Insertion'],loc='best')"
   ]
  },
  {
   "cell_type": "markdown",
   "metadata": {},
   "source": [
    "Al analizar las gráficas y los resultados de tiempo en cada algoritmo, encontramos que el tamaño promedio donde se cruzan las 2 funciones es 65, por lo cual se diseñó la función merge_insertion, que realiza Merge Sort para arreglos mayores a 65 e Insertion Sort para arreglos menores."
   ]
  },
  {
   "cell_type": "code",
   "execution_count": 9,
   "metadata": {
    "collapsed": true
   },
   "outputs": [],
   "source": [
    "def merge_insertion(lista):\n",
    "    if(len(lista)>65):\n",
    "        return mergeSort(lista)\n",
    "    else:\n",
    "        return insertionSort(lista)"
   ]
  },
  {
   "cell_type": "code",
   "execution_count": 10,
   "metadata": {
    "collapsed": true
   },
   "outputs": [],
   "source": [
    "from random import shuffle\n",
    "import time\n",
    "\n",
    "def pruebas_merge_insertion():\n",
    "    listas = []\n",
    "    aux = (range(10))\n",
    "    shuffle(aux)\n",
    "    listas.append(aux)\n",
    "    aux = (range(20))\n",
    "    shuffle(aux)\n",
    "    listas.append(aux)\n",
    "    aux = (range(30))\n",
    "    shuffle(aux)\n",
    "    listas.append(aux)\n",
    "    aux = (range(40))\n",
    "    shuffle(aux)\n",
    "    listas.append(aux)\n",
    "    aux = (range(50))\n",
    "    shuffle(aux)\n",
    "    listas.append(aux)\n",
    "    aux = (range(60))\n",
    "    shuffle(aux)\n",
    "    listas.append(aux)\n",
    "    aux = (range(70))\n",
    "    shuffle(aux)\n",
    "    listas.append(aux)\n",
    "    aux = (range(80))\n",
    "    shuffle(aux)\n",
    "    listas.append(aux)\n",
    "    aux = (range(90))\n",
    "    shuffle(aux)\n",
    "    listas.append(aux)\n",
    "    aux = (range(100))\n",
    "    shuffle(aux)\n",
    "    listas.append(aux)\n",
    "\n",
    "    tiempos_merge_Insertion = []\n",
    "    for node in range(10):\n",
    "        tiempoInicial=time.clock()\n",
    "        #print(listas[node])\n",
    "        merge_insertion(listas[node])\n",
    "        tiempos=time.clock()-tiempoInicial\n",
    "        #print tiempos\n",
    "        tiempos_merge_Insertion.append(tiempos)\n",
    "    return tiempos_merge_Insertion"
   ]
  },
  {
   "cell_type": "code",
   "execution_count": 11,
   "metadata": {
    "collapsed": false
   },
   "outputs": [
    {
     "name": "stdout",
     "output_type": "stream",
     "text": [
      "[0.009076786907755263, 0.026529998965433066, 0.05333997842263294, 0.0905203203436784, 0.13569899059235446, 0.19042039768723384, 0.23196301630124871, 0.26857600772454404, 0.31112318977421793, 0.3508964302076869]\n"
     ]
    }
   ],
   "source": [
    "tiempos_merge_Insertion = []\n",
    "for i in range(10):\n",
    "    tiempos_merge_Insertion.append(0)\n",
    "\n",
    "for i in range(1000):\n",
    "    aux = pruebas_merge_insertion()\n",
    "    for n in range(10):\n",
    "        tiempos_merge_Insertion[n] += aux[n]\n",
    "\n",
    "print tiempos_merge_Insertion"
   ]
  },
  {
   "cell_type": "markdown",
   "metadata": {},
   "source": [
    "En la gráfica vemos que inicialmente tiende a presentar un crecimiento cuadrático, pero luego se linealiza."
   ]
  },
  {
   "cell_type": "code",
   "execution_count": 12,
   "metadata": {
    "collapsed": false
   },
   "outputs": [
    {
     "data": {
      "text/plain": [
       "<matplotlib.legend.Legend at 0x7a0d9b0>"
      ]
     },
     "execution_count": 12,
     "metadata": {},
     "output_type": "execute_result"
    },
    {
     "data": {
      "image/png": "[encoded data removed]",
      "text/plain": [
       "<matplotlib.figure.Figure at 0x4099da0>"
      ]
     },
     "metadata": {},
     "output_type": "display_data"
    }
   ],
   "source": [
    "import matplotlib.pyplot as plt\n",
    "import numpy as np\n",
    "from scipy.interpolate import interp1d\n",
    "import math\n",
    "%matplotlib inline\n",
    "\n",
    "\n",
    "x = np.linspace(0,100,10,endpoint=True)\n",
    "f3 = interp1d(x,tiempos_merge_Insertion)\n",
    "plt.plot(x,f3(x))\n",
    "plt.legend(['Merge-Insertion'],loc='best')"
   ]
  },
  {
   "cell_type": "markdown",
   "metadata": {},
   "source": [
    "Finalmente, al graficar las 3 funciones, vemos que se obtiene el resultado esperado en la práctica."
   ]
  },
  {
   "cell_type": "code",
   "execution_count": 13,
   "metadata": {
    "collapsed": false
   },
   "outputs": [
    {
     "data": {
      "text/plain": [
       "<matplotlib.legend.Legend at 0x8005630>"
      ]
     },
     "execution_count": 13,
     "metadata": {},
     "output_type": "execute_result"
    },
    {
     "data": {
      "image/png": "[encoded data removed]",
      "text/plain": [
       "<matplotlib.figure.Figure at 0x7d38400>"
      ]
     },
     "metadata": {},
     "output_type": "display_data"
    }
   ],
   "source": [
    "import matplotlib.pyplot as plt\n",
    "import numpy as np\n",
    "from scipy.interpolate import interp1d\n",
    "import math\n",
    "%matplotlib inline\n",
    "\n",
    "\n",
    "x = np.linspace(0,100,10,endpoint=True)\n",
    "f1 = interp1d(x,tiemposMerge,kind='quadratic')\n",
    "f2 = interp1d(x,tiemposInsertion,kind='quadratic')\n",
    "f3 = interp1d(x,tiempos_merge_Insertion)\n",
    "plt.plot(x,f1(x),x,f2(x),x,f3(x))\n",
    "plt.title('Sort')\n",
    "plt.legend(['Merge','Insertion','Merge-Insertion'],loc='best')"
   ]
  }
 ],
 "metadata": {
  "kernelspec": {
   "display_name": "Python 2",
   "language": "python",
   "name": "python2"
  },
  "language_info": {
   "codemirror_mode": {
    "name": "ipython",
    "version": 2
   },
   "file_extension": ".py",
   "mimetype": "text/x-python",
   "name": "python",
   "nbconvert_exporter": "python",
   "pygments_lexer": "ipython2",
   "version": "2.7.11"
  }
 },
 "nbformat": 4,
 "nbformat_minor": 0
}
