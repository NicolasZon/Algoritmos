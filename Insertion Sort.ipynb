{
 "cells": [
  {
   "cell_type": "markdown",
   "metadata": {},
   "source": [
    "# Práctica Ipython\n",
    "## Punto 1: insertion sort\n",
    "\n",
    "Para esta práctica se utilizó la implementación del Cormen:"
   ]
  },
  {
   "cell_type": "code",
   "execution_count": 1,
   "metadata": {
    "collapsed": false
   },
   "outputs": [],
   "source": [
    "def insertionSort(n):\n",
    "    j=1\n",
    "    while j<len(n):\n",
    "        llave=n[j]\n",
    "        i=j-1\n",
    "        while i>=0 and n[i]>llave:\n",
    "            n[i+1]=n[i]\n",
    "            i=i-1\n",
    "        n[i+1]=llave\n",
    "        j=j+1\n"
   ]
  },
  {
   "cell_type": "markdown",
   "metadata": {},
   "source": [
    "Se generaron 3 listas, cada una con lóngitud 3, 4, y 5 respectivamente."
   ]
  },
  {
   "cell_type": "code",
   "execution_count": 2,
   "metadata": {
    "collapsed": false
   },
   "outputs": [
    {
     "name": "stdout",
     "output_type": "stream",
     "text": [
      "[0, 1, 2, 3] [0, 1, 2, 3, 4] [0, 1, 2, 3, 4, 5]\n"
     ]
    }
   ],
   "source": [
    "lista1 = range(4)\n",
    "lista2 = range(5)\n",
    "lista3 = range(6)\n",
    "print lista1,lista2,lista3"
   ]
  },
  {
   "cell_type": "code",
   "execution_count": 3,
   "metadata": {
    "collapsed": false
   },
   "outputs": [],
   "source": [
    "def nope(i):\n",
    "    aux = []\n",
    "    for j in i:\n",
    "        aux.append(j)\n",
    "    return aux"
   ]
  },
  {
   "cell_type": "markdown",
   "metadata": {},
   "source": [
    "La función 'tiempos' fue diseñada para obtener los tiempos que tardaba cada uno de los arreglos, con todas sus permutaciones posibles. Esta función retorna el tiempo del mejor caso, del caso promedio y del peor caso."
   ]
  },
  {
   "cell_type": "code",
   "execution_count": 4,
   "metadata": {
    "collapsed": false
   },
   "outputs": [],
   "source": [
    "import time\n",
    "\n",
    "def tiempos(permutacion):\n",
    "    tiempoMedio = 0\n",
    "    tpeorCaso = 0\n",
    "    tmejorCaso = 0\n",
    "    tam = 0\n",
    "    insertionSort(lista1)\n",
    "    for i in permutacion:\n",
    "        aux = nope(i)\n",
    "        tiempoInicial=time.clock()\n",
    "        insertionSort(aux)\n",
    "        tiempoFinal=time.clock()-tiempoInicial\n",
    "\n",
    "        if nope(i) == sorted(aux):\n",
    "            tmejorCaso = tiempoFinal\n",
    "        elif nope(i) == sorted(aux, reverse=True):\n",
    "            tpeorCaso = tiempoFinal\n",
    "        else:\n",
    "            tiempoMedio += tiempoFinal\n",
    "            tam += 1\n",
    "\n",
    "    tiempoMedio /= tam\n",
    "    auxxx[0] = tmejorCaso\n",
    "    auxxx[1] = tiempoMedio\n",
    "    auxxx[2] = tpeorCaso\n",
    "    return tmejorCaso, tiempoMedio,tpeorCaso\n",
    "\n",
    "aux1 = [0,0,0]\n",
    "aux2 = [0,0,0]\n",
    "aux3 = [0,0,0]\n",
    "\n",
    "auxxx = [0,0,0]\n",
    "auxxx = [0,0,0]\n",
    "auxxx = [0,0,0]"
   ]
  },
  {
   "cell_type": "markdown",
   "metadata": {},
   "source": [
    "Se realizó el conteo de los tiempos 1000 veces para cada lista, para encontrar un tiempo promedio más exacto."
   ]
  },
  {
   "cell_type": "code",
   "execution_count": 5,
   "metadata": {
    "collapsed": false
   },
   "outputs": [
    {
     "name": "stdout",
     "output_type": "stream",
     "text": [
      "mejores:  [0.0017127252365113418, 0.0020895904730994517, 0.0025407613827418897]\n",
      "promedios [0.0025637136624360583, 0.0033168378311074485, 0.004236797889150134]\n",
      "peores [0.0031347962382452486, 0.004161528217281484, 0.005496977688591429]\n"
     ]
    }
   ],
   "source": [
    "from itertools import permutations\n",
    "\n",
    "for some in xrange(1000):\n",
    "    permutaciones1 = permutations(lista1)\n",
    "    permutaciones2 = permutations(lista2)\n",
    "    permutaciones3 = permutations(lista3)\n",
    "\n",
    "    tiempos(permutaciones1)\n",
    "    for i in range(3):\n",
    "        aux1[i] += auxxx[i]\n",
    "\n",
    "    tiempos(permutaciones2)\n",
    "    for i in range(3):\n",
    "        aux2[i] += auxxx[i]\n",
    "\n",
    "    tiempos(permutaciones3)\n",
    "    for i in range(3):\n",
    "        aux3[i] += auxxx[i]\n",
    "\n",
    "mejores=[]\n",
    "peores=[]\n",
    "promedios=[]\n",
    "\n",
    "mejores.append(aux1[0])\n",
    "mejores.append(aux2[0])\n",
    "mejores.append(aux3[0])\n",
    "promedios.append(aux1[1])\n",
    "promedios.append(aux2[1])\n",
    "promedios.append(aux3[1])\n",
    "peores.append(aux1[2])\n",
    "peores.append(aux2[2])\n",
    "peores.append(aux3[2])\n",
    "\n",
    "print \"mejores: \", mejores\n",
    "print \"promedios\", promedios\n",
    "print \"peores\", peores"
   ]
  },
  {
   "cell_type": "markdown",
   "metadata": {},
   "source": [
    "Al final se realizó la interpolación y la gráfica, usando las librerias de Ipython."
   ]
  },
  {
   "cell_type": "code",
   "execution_count": 6,
   "metadata": {
    "collapsed": false,
    "scrolled": true
   },
   "outputs": [
    {
     "data": {
      "text/plain": [
       "<matplotlib.legend.Legend at 0x6e436d8>"
      ]
     },
     "execution_count": 6,
     "metadata": {},
     "output_type": "execute_result"
    },
    {
     "data": {
      "image/png": "[encoded data removed]",
      "text/plain": [
       "<matplotlib.figure.Figure at 0x41bfe48>"
      ]
     },
     "metadata": {},
     "output_type": "display_data"
    }
   ],
   "source": [
    "%matplotlib inline\n",
    "import matplotlib.pyplot as plt\n",
    "import numpy as np\n",
    "from scipy.interpolate import interp1d\n",
    "import math\n",
    "\n",
    "x = np.linspace(4,6,3,endpoint=True)\n",
    "x2 = np.linspace(4,6,10,endpoint=True)\n",
    "\n",
    "f1 = interp1d(x,mejores,kind='quadratic')\n",
    "f2 = interp1d(x,peores,kind='quadratic')\n",
    "f3 = interp1d(x,promedios,kind='quadratic')\n",
    "\n",
    "#plt.plot(x,mejores,x,peores,x,promedios)\n",
    "plt.plot(x2,f1(x2),x2,f2(x2),x2,f3(x2))\n",
    "plt.legend(['Mejor','Peor','Promedio'],loc='best')"
   ]
  }
 ],
 "metadata": {
  "kernelspec": {
   "display_name": "Python 2",
   "language": "python",
   "name": "python2"
  },
  "language_info": {
   "codemirror_mode": {
    "name": "ipython",
    "version": 2
   },
   "file_extension": ".py",
   "mimetype": "text/x-python",
   "name": "python",
   "nbconvert_exporter": "python",
   "pygments_lexer": "ipython2",
   "version": "2.7.11"
  }
 },
 "nbformat": 4,
 "nbformat_minor": 0
}
